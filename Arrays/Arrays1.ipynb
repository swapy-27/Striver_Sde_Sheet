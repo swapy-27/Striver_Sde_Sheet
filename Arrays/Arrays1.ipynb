{
 "cells": [
  {
   "cell_type": "markdown",
   "id": "4e41bcf0",
   "metadata": {},
   "source": [
    "### Kandanes's Algorithm"
   ]
  },
  {
   "cell_type": "code",
   "execution_count": 1,
   "id": "47c24f48",
   "metadata": {},
   "outputs": [],
   "source": [
    "# https://takeuforward.org/data-structure/kadanes-algorithm-maximum-subarray-sum-in-an-array/"
   ]
  },
  {
   "cell_type": "code",
   "execution_count": 2,
   "id": "949fcc4c",
   "metadata": {},
   "outputs": [],
   "source": [
    "\n",
    "def maxSubarraySum(arr, n) :\n",
    "    s,mx=0,0\n",
    "    for i in arr:\n",
    "        s+=i\n",
    "        if(s<0):\n",
    "            s=0\n",
    "        \n",
    "        mx=max(mx,s)\n",
    "    \n",
    "    return  mx\n"
   ]
  },
  {
   "cell_type": "markdown",
   "id": "249076df",
   "metadata": {},
   "source": [
    "TC:\n",
    "SC:"
   ]
  },
  {
   "cell_type": "markdown",
   "id": "759eae20",
   "metadata": {},
   "source": [
    "### Sort an array of 0’s 1’s 2’s"
   ]
  },
  {
   "cell_type": "code",
   "execution_count": null,
   "id": "cb5bddcc",
   "metadata": {},
   "outputs": [],
   "source": [
    "#https://takeuforward.org/data-structure/sort-an-array-of-0s-1s-and-2s/"
   ]
  },
  {
   "cell_type": "code",
   "execution_count": 3,
   "id": "18489ccc",
   "metadata": {},
   "outputs": [],
   "source": [
    "def sort012(arr, n) :\n",
    "    i,j,m=0,n-1,0\n",
    "    while m<=j:\n",
    "        if arr[m]==0:\n",
    "            arr[i],arr[m]=arr[m],arr[i]\n",
    "            i+=1\n",
    "            m+=1\n",
    "        elif arr[m]==2:\n",
    "            arr[j],arr[m]=arr[m],arr[j]\n",
    "            j-=1\n",
    "            \n",
    "        else:\n",
    "            m+=1\n",
    "    return arr"
   ]
  },
  {
   "cell_type": "markdown",
   "id": "226f3c06",
   "metadata": {},
   "source": [
    "TC: SC:"
   ]
  },
  {
   "cell_type": "markdown",
   "id": "329aec99",
   "metadata": {},
   "source": [
    "### Best Time to Buy and Sell Stock"
   ]
  },
  {
   "cell_type": "code",
   "execution_count": 4,
   "id": "e2da08aa",
   "metadata": {},
   "outputs": [],
   "source": [
    "# https://takeuforward.org/data-structure/stock-buy-and-sell/"
   ]
  },
  {
   "cell_type": "code",
   "execution_count": null,
   "id": "a9cc2876",
   "metadata": {},
   "outputs": [],
   "source": [
    "def maximumProfit(prices):\n",
    "    # Write your code here.\n",
    "    maxp= 0 \n",
    "    minv=100000000000\n",
    "    for i in prices:\n",
    "        if i<minv:\n",
    "            minv=i\n",
    "        curr_diff = i-minv \n",
    "        maxp=max(curr_diff,maxp)\n",
    "    return maxp"
   ]
  },
  {
   "cell_type": "markdown",
   "id": "8636b527",
   "metadata": {},
   "source": [
    "TC: SC:"
   ]
  }
 ],
 "metadata": {
  "kernelspec": {
   "display_name": "Python 3",
   "language": "python",
   "name": "python3"
  },
  "language_info": {
   "codemirror_mode": {
    "name": "ipython",
    "version": 3
   },
   "file_extension": ".py",
   "mimetype": "text/x-python",
   "name": "python",
   "nbconvert_exporter": "python",
   "pygments_lexer": "ipython3",
   "version": "3.8.8"
  }
 },
 "nbformat": 4,
 "nbformat_minor": 5
}
